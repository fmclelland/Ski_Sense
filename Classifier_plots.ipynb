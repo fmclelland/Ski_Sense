{
 "cells": [
  {
   "cell_type": "markdown",
   "metadata": {},
   "source": [
    "# Description\n",
    "- Import the data\n",
    "- Segment data into 2 turn segments\n",
    "- Calculate the FFT\n",
    "- Solve for the DFT ratio\n",
    "- Calculate the SVD of the dft ratio, dft(strain), dft(angular velocity).\n",
    "- Genrate scatter plots"
   ]
  },
  {
   "cell_type": "markdown",
   "metadata": {},
   "source": [
    "## Import Packages"
   ]
  },
  {
   "cell_type": "code",
   "execution_count": 1,
   "metadata": {},
   "outputs": [],
   "source": [
    "# For calculating derivatives and integrals\n",
    "import math\n",
    "import pynumdiff\n",
    "import scipy\n",
    "import cvxpy as cp\n",
    "# import umap.umap_ as umap\n",
    "# from sklearn.preprocessing import StandardScaler\n",
    "from sklearn.model_selection import train_test_split\n",
    "from sklearn.naive_bayes import GaussianNB\n",
    "from sklearn.metrics import accuracy_score\n",
    "from sklearn.metrics import f1_score\n",
    "from sklearn import metrics\n",
    "\n",
    "# For processing data\n",
    "import numpy as np\n",
    "import pandas as pd\n",
    "\n",
    "# For calculating frequency content\n",
    "from scipy import fft\n",
    "from scipy import signal\n",
    "\n",
    "# For plotting signals\n",
    "import matplotlib.pyplot as plt\n",
    "import matplotlib as mpl\n",
    "import seaborn as sns"
   ]
  },
  {
   "cell_type": "markdown",
   "metadata": {},
   "source": [
    "# Functions"
   ]
  },
  {
   "cell_type": "code",
   "execution_count": 2,
   "metadata": {},
   "outputs": [],
   "source": [
    "# Perform a mean subtraction to ensure data is centered around the zero.\n",
    "def sig_mean_df(df, columns,time):\n",
    "    df_mean = pd.DataFrame(columns=columns)\n",
    "    for i in range(len(columns)):\n",
    "        signal = df[columns[i]]\n",
    "        signal_mean = np.mean(signal)\n",
    "        signal_use = (signal-signal_mean)\n",
    "        df_mean[columns[i]] = signal_use\n",
    "    df_mean[time] = df[time]\n",
    "    \n",
    "    return(df_mean)\n",
    "\n",
    "# Smooth your data like butter. Return original dataframe with smoothed data appended.\n",
    "def smooth_butter(df, params, dt, col_names):\n",
    "    for i in range(np.size(col_names)):\n",
    "        df[col_names[i] + '_hat'], df[col_names[i] + '_dt'] = pynumdiff.smooth_finite_difference.butterdiff(df[col_names[i]], dt, params, options={'iterate': False})\n",
    "    return(df)\n",
    "\n",
    "# Smooth your data and return only smooth signals.\n",
    "def smooth_only(df, params, dt, col_names):\n",
    "    df_new = pd.DataFrame()\n",
    "    for i in range(len(col_names)):\n",
    "        smooth_data, smooth_derivative = pynumdiff.smooth_finite_difference.butterdiff(df[col_names[i]], dt, params, options={'iterate': False})\n",
    "        df_new[col_names[i]] = smooth_data \n",
    "    return(df_new)\n",
    "\n",
    "# Calculate the DFT of a data set and return a data frame including the DFT data\n",
    "def simple_fft_array(array,dt):\n",
    "    fft_df = pd.DataFrame()\n",
    "    N = np.shape(array)[0]\n",
    "    yf = 2.0/N * np.abs(fft.fft(array)[0:N//2])\n",
    "    xf = fft.fftfreq(N,dt)[:N//2]\n",
    "    fft_df['array_fft'] = yf\n",
    "    fft_df['frequency'] = xf\n",
    "    return(fft_df)\n",
    "\n",
    "# Take the FFT of a dataset and return a new data frame containing the DFT data.\n",
    "def fft_of_data_df(df,dt,columns):\n",
    "    fft_df = pd.DataFrame()\n",
    "    for i in range(len(columns)):\n",
    "        data = df[columns[i]]\n",
    "        data = np.array(data)\n",
    "        N = data.shape[0] # Length of data.\n",
    "        yf = 2.0/N * np.abs(fft.fft(data)[0:N//2])# Divide to bring the manitude to the magnitude of the orginal sinewave.\n",
    "        # Remember the the y-data will be complex so you have to take the absolute value.\n",
    "        xf = fft.fftfreq(N,dt)[:N//2]# Only take the first half of the data.\n",
    "        fft_df[columns[i]+'_fft'] = yf\n",
    "        if i == len(columns)-1:\n",
    "            fft_df['Frequency'] = xf\n",
    "    return(fft_df)\n",
    "\n",
    "# Use query to extract segments of data.\n",
    "def segment_data(df, column_title, lower_lim, upper_lim):\n",
    "    q = column_title + ' < ' + str(upper_lim) + ' and ' + column_title + ' > ' + str(lower_lim)\n",
    "    new_df = df.query(q)\n",
    "    return(new_df)\n",
    "\n",
    "# Segment the data into desired segment size and take the FFT of the signals\n",
    "# Return a new data frame.\n",
    "def segment_create_new_df_for_each_sg(list_of_dfs,strain_gauge,chunck_size,snow_types,dt):\n",
    "    lower_freq = 1/60\n",
    "    high_freq = 150\n",
    "    df_new = pd.DataFrame()\n",
    "#     dataframes = np.shape(list_of_dfs[0])[0]\n",
    "    data_frames = len(snow_types)-1\n",
    "    for j in range(data_frames):\n",
    "            df_column = list_of_dfs[j][strain_gauge]\n",
    "            n = len(df_column)//chunk_size\n",
    "            for i in range(n):\n",
    "                data = df_column[i*chunk_size:(i+1)*chunk_size] # \"data\" is the segmented timeseries. \n",
    "                df_new[df_column.name+'_'+str(i+1)+'_'+snow_types[j]] = data.reset_index(drop=True)\n",
    "    df_new = fft_of_data_df(df_new,dt,df_new.columns.tolist())\n",
    "    # Take every 5th entry.\n",
    "    df_new = segment_data(df_new,'Frequency',lower_freq,high_freq) #.iloc[0::2,:].reset_index(drop=True)\n",
    "    return(df_new)"
   ]
  },
  {
   "cell_type": "markdown",
   "metadata": {},
   "source": [
    "## Code"
   ]
  },
  {
   "cell_type": "markdown",
   "metadata": {},
   "source": [
    "## 1.0 Load data and format data"
   ]
  },
  {
   "cell_type": "code",
   "execution_count": 3,
   "metadata": {},
   "outputs": [
    {
     "name": "stderr",
     "output_type": "stream",
     "text": [
      "2023-01-29 21:30:50,763 [INFO] NumExpr defaulting to 4 threads.\n"
     ]
    }
   ],
   "source": [
    "# Import ski data\n",
    "df_grmr = pd.read_hdf('DATA/df_grmr.hdf')\n",
    "df_grmr1 = pd.read_hdf('DATA/df_grmr1.hdf')\n",
    "df_grmr2 = pd.read_hdf('DATA/df_grmr2.hdf')\n",
    "df_grmr3 = pd.read_hdf('DATA/df_grmr3.hdf')\n",
    "df_grmr4 = pd.read_hdf('DATA/df_grmr4.hdf')\n",
    "df_grmr5 = pd.read_hdf('DATA/df_grmr5.hdf')\n",
    "\n",
    "df_pwdr = pd.read_hdf('DATA/df_pwdr.hdf')\n",
    "df_pwdr1 = pd.read_hdf('DATA/df_pwdr1.hdf')\n",
    "\n",
    "df_icy = pd.read_hdf('DATA/df_icy.hdf')\n",
    "\n",
    "df_s = pd.read_hdf('DATA/df_s.hdf')\n",
    "df_s1 = pd.read_hdf('DATA/df_s1.hdf')\n",
    "df_s2 = pd.read_hdf('DATA/df_s2.hdf')\n",
    "df_s3 = pd.read_hdf('DATA/df_s3.hdf')"
   ]
  },
  {
   "cell_type": "code",
   "execution_count": 4,
   "metadata": {},
   "outputs": [],
   "source": [
    "# Create data frames that are mean subtracted.\n",
    "columns = ['sg3','sg4','sg6','sgc','sg7','sg12','sg15','imu_ax','imu_ay','imu_az','imu_wx','imu_wy','imu_wz'] # Columns to use.\n",
    "df_grmr_mean  = sig_mean_df(df_grmr,columns,'time_imu')\n",
    "df_grmr1_mean = sig_mean_df(df_grmr1,columns,'time_imu')\n",
    "df_grmr2_mean = sig_mean_df(df_grmr2,columns,'time_imu')\n",
    "df_grmr3_mean = sig_mean_df(df_grmr3,columns,'time_imu')\n",
    "df_grmr4_mean = sig_mean_df(df_grmr4,columns,'time_imu')\n",
    "df_grmr5_mean = sig_mean_df(df_grmr5,columns,'time_imu')\n",
    "df_pwdr_mean  = sig_mean_df(df_pwdr,columns,'time_imu')\n",
    "df_pwdr1_mean = sig_mean_df(df_pwdr1,columns,'time_imu')\n",
    "df_icy_mean   = sig_mean_df(df_icy,columns,'time_imu')\n",
    "df_s_mean     = sig_mean_df(df_s,columns,'time_imu')\n",
    "df_s1_mean    = sig_mean_df(df_s1,columns,'time_imu')\n",
    "df_s2_mean    = sig_mean_df(df_s2,columns,'time_imu')\n",
    "df_s3_mean    = sig_mean_df(df_s3,columns,'time_imu')\n",
    "all_mean_time = [df_grmr_mean,df_grmr1_mean,df_grmr2_mean,df_grmr3_mean,df_grmr4_mean,df_grmr5_mean,\n",
    "                df_pwdr_mean,df_pwdr1_mean,\n",
    "                df_icy_mean,\n",
    "                df_s_mean,df_s1_mean,df_s2_mean,df_s3_mean]"
   ]
  },
  {
   "cell_type": "markdown",
   "metadata": {},
   "source": [
    "## 1.1 Plot strain and smoothed angular velocity data"
   ]
  },
  {
   "cell_type": "code",
   "execution_count": null,
   "metadata": {},
   "outputs": [],
   "source": []
  },
  {
   "cell_type": "markdown",
   "metadata": {},
   "source": [
    "## 1.2 Segment the data\n",
    "- Segment into 2 turn segments\n",
    "- Take the FFT of the data"
   ]
  },
  {
   "cell_type": "code",
   "execution_count": 5,
   "metadata": {},
   "outputs": [],
   "source": [
    "# Segment the original non normalized strain data.\n",
    "# And take the FFT of the signals.\n",
    "dt = 0.001 # Sample period\n",
    "snow_types = ['groomer_slow','groomer_slow1','groomer_fast','groomer_fast1','groomer_slow2','groomer_fast2','powder_1',\n",
    "              'powder_5','icy_fast','icy1_fast','slushy_fast','slushy_slow','slushy_fast1','slushy_slow1']\n",
    "strain_gauge = ['sg3','sg4','sg12','sg6','sgc','sg7','sg15']\n",
    "chunk_size = 10000\n",
    "sg3_segmented_all_snow = segment_create_new_df_for_each_sg(all_mean_time,strain_gauge[0],chunk_size,snow_types,dt)\n",
    "sg4_segmented_all_snow = segment_create_new_df_for_each_sg(all_mean_time,strain_gauge[1],chunk_size,snow_types,dt)\n",
    "sg12_segmented_all_snow = segment_create_new_df_for_each_sg(all_mean_time,strain_gauge[2],chunk_size,snow_types,dt)\n",
    "sg6_segmented_all_snow = segment_create_new_df_for_each_sg(all_mean_time,strain_gauge[3],chunk_size,snow_types,dt)\n",
    "sgc_segmented_all_snow = segment_create_new_df_for_each_sg(all_mean_time,strain_gauge[4],chunk_size,snow_types,dt)\n",
    "sg7_segmented_all_snow = segment_create_new_df_for_each_sg(all_mean_time,strain_gauge[5],chunk_size,snow_types,dt)\n",
    "sg15_segmented_all_snow = segment_create_new_df_for_each_sg(all_mean_time,strain_gauge[6],chunk_size,snow_types,dt)\n",
    "\n",
    "strain_segmented_all_fft = [sg3_segmented_all_snow.iloc[:,0:65],sg12_segmented_all_snow.iloc[:,0:65],sg6_segmented_all_snow.iloc[:,0:65],\n",
    "                           sgc_segmented_all_snow.iloc[:,0:65],sg7_segmented_all_snow.iloc[:,0:65],sg15_segmented_all_snow.iloc[:,0:65]]\n",
    "\n",
    "ang_velx_all_snow = segment_create_new_df_for_each_sg(all_mean_time,'imu_wx',chunk_size,snow_types,dt)\n",
    "ang_vely_all_snow = segment_create_new_df_for_each_sg(all_mean_time,'imu_wy',chunk_size,snow_types,dt)\n",
    "ang_velz_all_snow = segment_create_new_df_for_each_sg(all_mean_time,'imu_wz',chunk_size,snow_types,dt)\n",
    "\n",
    "angular_vel_all = [ang_velx_all_snow,ang_vely_all_snow,ang_velz_all_snow]"
   ]
  },
  {
   "cell_type": "markdown",
   "metadata": {},
   "source": [
    "## 1.3 Solve for the DFT ratio \n",
    "- Do this using various \"inputs\"\n",
    "- Inputs are the 3 axes of angular velocity measured from the IMU"
   ]
  },
  {
   "cell_type": "code",
   "execution_count": 6,
   "metadata": {},
   "outputs": [],
   "source": [
    "# Calculate the DFT ratio for x axis\n",
    "gamma = 0.8 # Weighting parameter for total variance constraint.\n",
    "all_b3 = []\n",
    "all_b12 = []\n",
    "all_b6 = []\n",
    "all_bc = []\n",
    "all_b7 = []\n",
    "all_b15 = []\n",
    "\n",
    "for i in range(np.shape(ang_velx_all_snow)[1]-1):\n",
    "    in_data = np.array(ang_velx_all_snow.iloc[:,i]).reshape((np.shape(ang_velx_all_snow.iloc[:,i])[0],1)) # The input will be the same across all strain gauges.\n",
    "    out_data3 = np.array(sg3_segmented_all_snow.iloc[:,i]).reshape((np.shape(sg3_segmented_all_snow.iloc[:,i])[0],1))\n",
    "    out_data12 = np.array(sg12_segmented_all_snow.iloc[:,i]).reshape((np.shape(sg12_segmented_all_snow.iloc[:,i])[0],1))\n",
    "    out_data6 = np.array(sg6_segmented_all_snow.iloc[:,i]).reshape((np.shape(sg6_segmented_all_snow.iloc[:,i])[0],1))\n",
    "    out_datac = np.array(sgc_segmented_all_snow.iloc[:,i]).reshape((np.shape(sgc_segmented_all_snow.iloc[:,i])[0],1))\n",
    "    out_data7 = np.array(sg7_segmented_all_snow.iloc[:,i]).reshape((np.shape(sg7_segmented_all_snow.iloc[:,i])[0],1))\n",
    "    out_data15 = np.array(sg15_segmented_all_snow.iloc[:,i]).reshape((np.shape(sg15_segmented_all_snow.iloc[:,i])[0],1))\n",
    "\n",
    "    bode3 = cp.Variable(np.shape(in_data)[0]) # Numerical bode plot that resets every time, but the values are appended. \n",
    "    bode12 = cp.Variable(np.shape(in_data)[0])\n",
    "    bode6 = cp.Variable(np.shape(in_data)[0])\n",
    "    bodec = cp.Variable(np.shape(in_data)[0])\n",
    "    bode7 = cp.Variable(np.shape(in_data)[0])\n",
    "    bode15 = cp.Variable(np.shape(in_data)[0])\n",
    "\n",
    "    L = cp.sum(cp.square(cp.multiply(in_data[:,0],bode3) - out_data3[:,0])) + gamma*cp.tv(bode3)\n",
    "    objective = cp.Minimize(L)\n",
    "    prob = cp.Problem(objective)\n",
    "    result = prob.solve()\n",
    "    all_b3.append(bode3.value)\n",
    "    \n",
    "    L = cp.sum(cp.square(cp.multiply(in_data[:,0],bode12) - out_data12[:,0])) + gamma*cp.tv(bode12)\n",
    "    objective = cp.Minimize(L)\n",
    "    prob = cp.Problem(objective)\n",
    "    result = prob.solve()\n",
    "    all_b12.append(bode12.value)\n",
    "    \n",
    "    L = cp.sum(cp.square(cp.multiply(in_data[:,0],bode6) - out_data6[:,0])) + gamma*cp.tv(bode6)\n",
    "    objective = cp.Minimize(L)\n",
    "    prob = cp.Problem(objective)\n",
    "    result = prob.solve()\n",
    "    all_b6.append(bode6.value)\n",
    "    \n",
    "    L = cp.sum(cp.square(cp.multiply(in_data[:,0],bodec) - out_datac[:,0])) + gamma*cp.tv(bodec)\n",
    "    objective = cp.Minimize(L)\n",
    "    prob = cp.Problem(objective)\n",
    "    result = prob.solve()\n",
    "    all_bc.append(bodec.value)\n",
    "    \n",
    "    L = cp.sum(cp.square(cp.multiply(in_data[:,0],bode7) - out_data7[:,0])) + gamma*cp.tv(bode7)\n",
    "    objective = cp.Minimize(L)\n",
    "    prob = cp.Problem(objective)\n",
    "    result = prob.solve()\n",
    "    all_b7.append(bode7.value)\n",
    "    \n",
    "    L = cp.sum(cp.square(cp.multiply(in_data[:,0],bode15) - out_data15[:,0])) + gamma*cp.tv(bode15)\n",
    "    objective = cp.Minimize(L)\n",
    "    prob = cp.Problem(objective)\n",
    "    result = prob.solve()\n",
    "    all_b15.append(bode15.value)\n",
    "    \n",
    "all_bode_datax = [np.transpose(all_b3),np.transpose(all_b12),np.transpose(all_b6),np.transpose(all_bc),np.transpose(all_b7),np.transpose(all_b15)]"
   ]
  },
  {
   "cell_type": "code",
   "execution_count": 7,
   "metadata": {},
   "outputs": [],
   "source": [
    "# Y axis\n",
    "all_b3 = []\n",
    "all_b12 = []\n",
    "all_b6 = []\n",
    "all_bc = []\n",
    "all_b7 = []\n",
    "all_b15 = []\n",
    "\n",
    "for i in range(np.shape(ang_vely_all_snow)[1]-1):\n",
    "    in_data = np.array(ang_vely_all_snow.iloc[:,i]).reshape((np.shape(ang_vely_all_snow.iloc[:,i])[0],1)) # The input will be the same across all strain gauges.\n",
    "    out_data3 = np.array(sg3_segmented_all_snow.iloc[:,i]).reshape((np.shape(sg3_segmented_all_snow.iloc[:,i])[0],1))\n",
    "    out_data12 = np.array(sg12_segmented_all_snow.iloc[:,i]).reshape((np.shape(sg12_segmented_all_snow.iloc[:,i])[0],1))\n",
    "    out_data6 = np.array(sg6_segmented_all_snow.iloc[:,i]).reshape((np.shape(sg6_segmented_all_snow.iloc[:,i])[0],1))\n",
    "    out_datac = np.array(sgc_segmented_all_snow.iloc[:,i]).reshape((np.shape(sgc_segmented_all_snow.iloc[:,i])[0],1))\n",
    "    out_data7 = np.array(sg7_segmented_all_snow.iloc[:,i]).reshape((np.shape(sg7_segmented_all_snow.iloc[:,i])[0],1))\n",
    "    out_data15 = np.array(sg15_segmented_all_snow.iloc[:,i]).reshape((np.shape(sg15_segmented_all_snow.iloc[:,i])[0],1))\n",
    "\n",
    "    bode3 = cp.Variable(np.shape(in_data)[0]) # Numerical bode plot that resets every time, but the values are appended. \n",
    "    bode12 = cp.Variable(np.shape(in_data)[0])\n",
    "    bode6 = cp.Variable(np.shape(in_data)[0])\n",
    "    bodec = cp.Variable(np.shape(in_data)[0])\n",
    "    bode7 = cp.Variable(np.shape(in_data)[0])\n",
    "    bode15 = cp.Variable(np.shape(in_data)[0])\n",
    "\n",
    "    L = cp.sum(cp.square(cp.multiply(in_data[:,0],bode3) - out_data3[:,0])) + gamma*cp.tv(bode3)\n",
    "    objective = cp.Minimize(L)\n",
    "    prob = cp.Problem(objective)\n",
    "    result = prob.solve()\n",
    "    all_b3.append(bode3.value)\n",
    "    \n",
    "    L = cp.sum(cp.square(cp.multiply(in_data[:,0],bode12) - out_data12[:,0])) + gamma*cp.tv(bode12)\n",
    "    objective = cp.Minimize(L)\n",
    "    prob = cp.Problem(objective)\n",
    "    result = prob.solve()\n",
    "    all_b12.append(bode12.value)\n",
    "    \n",
    "    L = cp.sum(cp.square(cp.multiply(in_data[:,0],bode6) - out_data6[:,0])) + gamma*cp.tv(bode6)\n",
    "    objective = cp.Minimize(L)\n",
    "    prob = cp.Problem(objective)\n",
    "    result = prob.solve()\n",
    "    all_b6.append(bode6.value)\n",
    "    \n",
    "    L = cp.sum(cp.square(cp.multiply(in_data[:,0],bodec) - out_datac[:,0])) + gamma*cp.tv(bodec)\n",
    "    objective = cp.Minimize(L)\n",
    "    prob = cp.Problem(objective)\n",
    "    result = prob.solve()\n",
    "    all_bc.append(bodec.value)\n",
    "    \n",
    "    L = cp.sum(cp.square(cp.multiply(in_data[:,0],bode7) - out_data7[:,0])) + gamma*cp.tv(bode7)\n",
    "    objective = cp.Minimize(L)\n",
    "    prob = cp.Problem(objective)\n",
    "    result = prob.solve()\n",
    "    all_b7.append(bode7.value)\n",
    "    \n",
    "    L = cp.sum(cp.square(cp.multiply(in_data[:,0],bode15) - out_data15[:,0])) + gamma*cp.tv(bode15)\n",
    "    objective = cp.Minimize(L)\n",
    "    prob = cp.Problem(objective)\n",
    "    result = prob.solve()\n",
    "    all_b15.append(bode15.value)\n",
    "\n",
    "all_bode_datay = [np.transpose(all_b3),np.transpose(all_b12),np.transpose(all_b6),np.transpose(all_bc),np.transpose(all_b7),np.transpose(all_b15)]"
   ]
  },
  {
   "cell_type": "code",
   "execution_count": 8,
   "metadata": {},
   "outputs": [],
   "source": [
    "# Z axis\n",
    "all_b3 = []\n",
    "all_b12 = []\n",
    "all_b6 = []\n",
    "all_bc = []\n",
    "all_b7 = []\n",
    "all_b15 = []\n",
    "\n",
    "for i in range(np.shape(ang_velz_all_snow)[1]-1):\n",
    "    in_data = np.array(ang_velz_all_snow.iloc[:,i]).reshape((np.shape(ang_velz_all_snow.iloc[:,i])[0],1)) # The input will be the same across all strain gauges.\n",
    "    out_data3 = np.array(sg3_segmented_all_snow.iloc[:,i]).reshape((np.shape(sg3_segmented_all_snow.iloc[:,i])[0],1))\n",
    "    out_data12 = np.array(sg12_segmented_all_snow.iloc[:,i]).reshape((np.shape(sg12_segmented_all_snow.iloc[:,i])[0],1))\n",
    "    out_data6 = np.array(sg6_segmented_all_snow.iloc[:,i]).reshape((np.shape(sg6_segmented_all_snow.iloc[:,i])[0],1))\n",
    "    out_datac = np.array(sgc_segmented_all_snow.iloc[:,i]).reshape((np.shape(sgc_segmented_all_snow.iloc[:,i])[0],1))\n",
    "    out_data7 = np.array(sg7_segmented_all_snow.iloc[:,i]).reshape((np.shape(sg7_segmented_all_snow.iloc[:,i])[0],1))\n",
    "    out_data15 = np.array(sg15_segmented_all_snow.iloc[:,i]).reshape((np.shape(sg15_segmented_all_snow.iloc[:,i])[0],1))\n",
    "\n",
    "    bode3 = cp.Variable(np.shape(in_data)[0]) # Numerical bode plot that resets every time, but the values are appended. \n",
    "    bode12 = cp.Variable(np.shape(in_data)[0])\n",
    "    bode6 = cp.Variable(np.shape(in_data)[0])\n",
    "    bodec = cp.Variable(np.shape(in_data)[0])\n",
    "    bode7 = cp.Variable(np.shape(in_data)[0])\n",
    "    bode15 = cp.Variable(np.shape(in_data)[0])\n",
    "\n",
    "    L = cp.sum(cp.square(cp.multiply(in_data[:,0],bode3) - out_data3[:,0])) + gamma*cp.tv(bode3)\n",
    "    objective = cp.Minimize(L)\n",
    "    prob = cp.Problem(objective)\n",
    "    result = prob.solve()\n",
    "    all_b3.append(bode3.value)\n",
    "    \n",
    "    L = cp.sum(cp.square(cp.multiply(in_data[:,0],bode12) - out_data12[:,0])) + gamma*cp.tv(bode12)\n",
    "    objective = cp.Minimize(L)\n",
    "    prob = cp.Problem(objective)\n",
    "    result = prob.solve()\n",
    "    all_b12.append(bode12.value)\n",
    "    \n",
    "    L = cp.sum(cp.square(cp.multiply(in_data[:,0],bode6) - out_data6[:,0])) + gamma*cp.tv(bode6)\n",
    "    objective = cp.Minimize(L)\n",
    "    prob = cp.Problem(objective)\n",
    "    result = prob.solve()\n",
    "    all_b6.append(bode6.value)\n",
    "    \n",
    "    L = cp.sum(cp.square(cp.multiply(in_data[:,0],bodec) - out_datac[:,0])) + gamma*cp.tv(bodec)\n",
    "    objective = cp.Minimize(L)\n",
    "    prob = cp.Problem(objective)\n",
    "    result = prob.solve()\n",
    "    all_bc.append(bodec.value)\n",
    "    \n",
    "    L = cp.sum(cp.square(cp.multiply(in_data[:,0],bode7) - out_data7[:,0])) + gamma*cp.tv(bode7)\n",
    "    objective = cp.Minimize(L)\n",
    "    prob = cp.Problem(objective)\n",
    "    result = prob.solve()\n",
    "    all_b7.append(bode7.value)\n",
    "    \n",
    "    L = cp.sum(cp.square(cp.multiply(in_data[:,0],bode15) - out_data15[:,0])) + gamma*cp.tv(bode15)\n",
    "    objective = cp.Minimize(L)\n",
    "    prob = cp.Problem(objective)\n",
    "    result = prob.solve()\n",
    "    all_b15.append(bode15.value)\n",
    "    \n",
    "all_bode_dataz = [np.transpose(all_b3),np.transpose(all_b12),np.transpose(all_b6),np.transpose(all_bc),np.transpose(all_b7),np.transpose(all_b15)]\n",
    "\n",
    "# Stack all the ratios together to take advantage of all three axes. \n",
    "all_bode_data = np.hstack((all_bode_datax,all_bode_datay,all_bode_dataz))"
   ]
  },
  {
   "cell_type": "markdown",
   "metadata": {},
   "source": [
    "## 2.0 Create different combinations of strain gagues"
   ]
  },
  {
   "cell_type": "code",
   "execution_count": 39,
   "metadata": {},
   "outputs": [],
   "source": [
    "c3 = all_bode_data[0]\n",
    "c12 = all_bode_data[1]\n",
    "c6 = all_bode_data[2]\n",
    "cc = all_bode_data[3]\n",
    "c7 = all_bode_data[4]\n",
    "c15 = all_bode_data[5]\n",
    "bode_stacked_all = np.hstack((c3,c12,c6,cc,c7,c15))\n",
    "bode_stacked_12_7 = np.hstack((c12,c7))\n",
    "bode_stacked_3_15 = np.hstack((c3,c15))\n",
    "bode_stacked_3_15_7 = np.hstack((c3,c15,c7))\n",
    "bode_stacked_3_7 = np.hstack((c3,c7))\n",
    "bode_stacked_3_6 = np.hstack((c3,c6))\n",
    "bode_stacked_3_c = np.hstack((c3,cc))\n",
    "bode_stacked_6_7 = np.hstack((c6,c7))\n",
    "bode_stacked_6_c = np.hstack((c6,cc))\n",
    "bode_stacked_6_15 = np.hstack((c6,c15))\n",
    "bode_stacked_3_12 = np.hstack((c3,c12))\n",
    "bode_stacked_7_15 = np.hstack((c7,c15))\n",
    "bode_stacked_12_15 = np.hstack((c12,c15))\n",
    "bode_stacked_12_6 = np.hstack((c12,c6))\n",
    "bode_stacked_12_c = np.hstack((c12,cc))\n",
    "bode_stacked_c_7 = np.hstack((cc,c7))\n",
    "bode_stacked_c_15 = np.hstack((cc,c15))\n",
    "bode_stacked_c = cc\n",
    "\n",
    "# bode_stacked_log = np.log10(bode_stacked)\n",
    "U_stack,S_stack,V_stack = np.linalg.svd(bode_stacked_c,full_matrices=False)\n",
    "\n",
    "U_stack_l_all,S_stack_l_all,V_stack_l_all = np.linalg.svd(np.log10(bode_stacked_all),full_matrices=False)\n",
    "U_stack_l_12_7,S_stack_l_12_7,V_stack_l_12_7 = np.linalg.svd(np.log10(bode_stacked_12_7),full_matrices=False)\n",
    "U_stack_l_3_15,S_stack_l_3_15,V_stack_l_3_15 = np.linalg.svd(np.log10(bode_stacked_3_15),full_matrices=False)\n",
    "U_stack_l_3_15_7,S_stack_l_3_15_7,V_stack_l_3_15_7 = np.linalg.svd(np.log10(bode_stacked_3_15_7),full_matrices=False)\n",
    "U_stack_l_3_7,S_stack_l_3_7,V_stack_l_3_7 = np.linalg.svd(np.log10(bode_stacked_3_7),full_matrices=False)\n",
    "U_stack_l_3_6,S_stack_l_3_6,V_stack_l_3_6 = np.linalg.svd(np.log10(bode_stacked_3_6),full_matrices=False)\n",
    "U_stack_l_3_c,S_stack_l_3_c,V_stack_l_3_c = np.linalg.svd(np.log10(bode_stacked_3_c),full_matrices=False)\n",
    "U_stack_l_6_7,S_stack_l_6_7,V_stack_l_6_7 = np.linalg.svd(np.log10(bode_stacked_6_7),full_matrices=False)\n",
    "U_stack_l_6_c,S_stack_l_6_c,V_stack_l_6_c = np.linalg.svd(np.log10(bode_stacked_6_c),full_matrices=False)\n",
    "U_stack_l_6_15,S_stack_l_6_15,V_stack_l_6_15 = np.linalg.svd(np.log10(bode_stacked_6_15),full_matrices=False)\n",
    "U_stack_l_3_12,S_stack_l_3_12,V_stack_l_3_12 = np.linalg.svd(np.log10(bode_stacked_3_12),full_matrices=False)\n",
    "U_stack_l_7_15,S_stack_l_7_15,V_stack_l_7_15 = np.linalg.svd(np.log10(bode_stacked_7_15),full_matrices=False)\n",
    "U_stack_l_12_15,S_stack_l_12_15,V_stack_l_12_15 = np.linalg.svd(np.log10(bode_stacked_12_15),full_matrices=False)\n",
    "U_stack_l_12_6,S_stack_l_12_6,V_stack_l_12_6 = np.linalg.svd(np.log10(bode_stacked_12_6),full_matrices=False)\n",
    "U_stack_l_12_c,S_stack_l_12_c,V_stack_l_12_c = np.linalg.svd(np.log10(bode_stacked_12_c),full_matrices=False)\n",
    "U_stack_l_c_7,S_stack_l_c_7,V_stack_l_c_7 = np.linalg.svd(np.log10(bode_stacked_c_7),full_matrices=False)\n",
    "U_stack_l_c_15,S_stack_l_c_15,V_stack_l_c_15 = np.linalg.svd(np.log10(bode_stacked_c_15),full_matrices=False)\n",
    "\n",
    "U_stack_l_3,S_stack_l_3,V_stack_l_3 = np.linalg.svd(np.log10(c3),full_matrices=False)\n",
    "U_stack_l_12,S_stack_l_12,V_stack_l_12 = np.linalg.svd(np.log10(c12),full_matrices=False)\n",
    "U_stack_l_6,S_stack_l_6,V_stack_l_6 = np.linalg.svd(np.log10(c6),full_matrices=False)\n",
    "U_stack_l_c,S_stack_l_c,V_stack_l_c = np.linalg.svd(np.log10(bode_stacked_c),full_matrices=False)\n",
    "U_stack_l_7,S_stack_l_7,V_stack_l_7 = np.linalg.svd(np.log10(c7),full_matrices=False)\n",
    "U_stack_l_15,S_stack_l_15,V_stack_l_15 = np.linalg.svd(np.log10(c15),full_matrices=False)"
   ]
  },
  {
   "cell_type": "code",
   "execution_count": 47,
   "metadata": {},
   "outputs": [
    {
     "data": {
      "text/plain": [
       "array([[487.31721071,   0.        ,   0.        , ...,   0.        ,\n",
       "          0.        ,   0.        ],\n",
       "       [  0.        , 110.60303372,   0.        , ...,   0.        ,\n",
       "          0.        ,   0.        ],\n",
       "       [  0.        ,   0.        ,  44.28029008, ...,   0.        ,\n",
       "          0.        ,   0.        ],\n",
       "       ...,\n",
       "       [  0.        ,   0.        ,   0.        , ...,   1.22930472,\n",
       "          0.        ,   0.        ],\n",
       "       [  0.        ,   0.        ,   0.        , ...,   0.        ,\n",
       "          1.13978963,   0.        ],\n",
       "       [  0.        ,   0.        ,   0.        , ...,   0.        ,\n",
       "          0.        ,   1.06495968]])"
      ]
     },
     "execution_count": 47,
     "metadata": {},
     "output_type": "execute_result"
    }
   ],
   "source": [
    "np.diag(S_stack_l_3)"
   ]
  },
  {
   "cell_type": "code",
   "execution_count": 66,
   "metadata": {},
   "outputs": [
    {
     "data": {
      "image/png": "[encoded data removed]",
      "text/plain": [
       "<Figure size 300x300 with 1 Axes>"
      ]
     },
     "metadata": {},
     "output_type": "display_data"
    }
   ],
   "source": [
    "number_of_columns = 65\n",
    "separation_lines = np.arange(0,number_of_columns,1)\n",
    "\n",
    "sg_choice = 0\n",
    "# diag_s = np.diag(np.log10(S0[sg_choice])+1.8)\n",
    "mpl.rc('font', size=8)\n",
    "fig, ax = plt.subplots(1,1,figsize=[1.5,1.5], dpi=200)\n",
    "fig.patch.set_facecolor('white')\n",
    "sns.color_palette(\"mako\", as_cmap=True)\n",
    "ax = sns.heatmap(-np.diag(S_stack_l_3)[0:number_of_columns,0:number_of_columns], cbar=False, vmin=-40, vmax=0)\n",
    "# ax = sns.heatmap(V_stack_l_3[:,0:number_of_columns], cbar=False)\n",
    "\n",
    "# ax.vlines(separation_lines, *ax.get_ylim(), linewidth=1,color='white')\n",
    "ax.axes.xaxis.set_visible(False)\n",
    "ax.axes.yaxis.set_visible(False)\n",
    "\n",
    "# ax.set_title('U matrix represents the new basis of the data.', fontsize=15)\n",
    "# ax.set_ylabel('Data entries')\n",
    "# ax.set_xlabel(' \\n (M x N)')\n",
    "# plt.savefig(\"svd_v_65.svg\",bbox_inches='tight',dpi=fig.dpi)\n",
    "plt.show()"
   ]
  },
  {
   "cell_type": "code",
   "execution_count": null,
   "metadata": {},
   "outputs": [],
   "source": []
  },
  {
   "cell_type": "code",
   "execution_count": 11,
   "metadata": {},
   "outputs": [],
   "source": [
    "# Create an array of labels\n",
    "snow_types0 = [0]*6*5 #Groomer\n",
    "snow_types1 = [1]*2*5 #Powder\n",
    "snow_types2 = [2]*1*5 #Icy\n",
    "snow_types3 = [3]*4*5 #Slushy\n",
    "snow_types = np.hstack((snow_types0,snow_types1,snow_types2,snow_types3))\n",
    "\n",
    "snow_types_stacked_all = np.tile(snow_types,(1,np.shape(bode_stacked_all)[1]//65))\n",
    "snow_types_stacked_all = pd.Series(snow_types_stacked_all[0,:])\n",
    "\n",
    "snow_types_stacked_12_7 = np.tile(snow_types,(1,np.shape(bode_stacked_12_7)[1]//65))\n",
    "snow_types_stacked_12_7 = pd.Series(snow_types_stacked_12_7[0,:])\n",
    "\n",
    "snow_types_stacked_3_15 = np.tile(snow_types,(1,np.shape(bode_stacked_3_15)[1]//65))\n",
    "snow_types_stacked_3_15 = pd.Series(snow_types_stacked_3_15[0,:])\n",
    "\n",
    "snow_types_stacked_3_7 = np.tile(snow_types,(1,np.shape(bode_stacked_3_7)[1]//65))\n",
    "snow_types_stacked_3_7 = pd.Series(snow_types_stacked_3_7[0,:])\n",
    "\n",
    "snow_types_stacked_3_15_7 = np.tile(snow_types,(1,np.shape(bode_stacked_3_15_7)[1]//65))\n",
    "snow_types_stacked_3_15_7 = pd.Series(snow_types_stacked_3_15_7[0,:])\n",
    "\n",
    "snow_types_stacked_3_12 = np.tile(snow_types,(1,np.shape(bode_stacked_3_12)[1]//65))\n",
    "snow_types_stacked_3_12 = pd.Series(snow_types_stacked_3_12[0,:])\n",
    "\n",
    "snow_types_stacked_7_15 = np.tile(snow_types,(1,np.shape(bode_stacked_7_15)[1]//65))\n",
    "snow_types_stacked_7_15 = pd.Series(snow_types_stacked_7_15[0,:])\n",
    "\n",
    "snow_types_stacked_c = np.tile(snow_types,(1,np.shape(bode_stacked_c)[1]//65))\n",
    "snow_types_stacked_c = pd.Series(snow_types_stacked_c[0,:])"
   ]
  },
  {
   "cell_type": "markdown",
   "metadata": {},
   "source": [
    "## 2.1 Begin Gaussian Naive Bayes Classifier"
   ]
  },
  {
   "cell_type": "code",
   "execution_count": 12,
   "metadata": {},
   "outputs": [],
   "source": [
    "# Create a list to store the performances of the classifier as number of features increase\n",
    "performance = []\n",
    "f1_score_data = []\n",
    "\n",
    "# Change \"labels\" and \"v_use\" to apply classifier to a different data set.\n",
    "labels = snow_types_stacked_3_7\n",
    "\n",
    "#############******************############\n",
    "v_use = V_stack_l_6_15\n",
    "############******************############\n",
    "\n",
    "xlim = [-1,65]\n",
    "ylim = [-1,101]\n",
    "for i in range(1,len(v_use)):\n",
    "    # Split our data\n",
    "    train, test, train_labels, test_labels = train_test_split(v_use[0:i,:].T,labels,test_size=0.3,random_state=42)\n",
    "    # Initialize our classifier\n",
    "    gnb = GaussianNB()\n",
    "    # Train our classifier\n",
    "    model = gnb.fit(train, train_labels)\n",
    "    # Make predictions\n",
    "    preds = gnb.predict(test)\n",
    "    # Evaluate accuracy\n",
    "    p = accuracy_score(test_labels, preds)\n",
    "    pf1 = f1_score(test_labels, preds, average = 'weighted')\n",
    "    performance.append(p*100)\n",
    "    f1_score_data.append(pf1*100)"
   ]
  },
  {
   "cell_type": "code",
   "execution_count": 13,
   "metadata": {},
   "outputs": [
    {
     "data": {
      "text/plain": [
       "(4497, 65)"
      ]
     },
     "execution_count": 13,
     "metadata": {},
     "output_type": "execute_result"
    }
   ],
   "source": [
    "np.shape(c3)"
   ]
  },
  {
   "cell_type": "markdown",
   "metadata": {},
   "source": [
    "## 3.0 Plot the maximum performance after cycling through using multiple features."
   ]
  },
  {
   "cell_type": "markdown",
   "metadata": {},
   "source": [
    "- Using accuracy as the classifier metric."
   ]
  },
  {
   "cell_type": "code",
   "execution_count": 14,
   "metadata": {},
   "outputs": [
    {
     "data": {
      "image/png": "[encoded data removed]",
      "text/plain": [
       "<Figure size 400x400 with 1 Axes>"
      ]
     },
     "metadata": {},
     "output_type": "display_data"
    }
   ],
   "source": [
    "# Simple Plots\n",
    "f_size = 6\n",
    "fig, ax = plt.subplots(1,1,figsize=[2,2],dpi=200)\n",
    "fig.patch.set_facecolor('white')\n",
    "ax.plot(performance, '--o', color='maroon',markersize=1,linewidth=0.5)\n",
    "ax.plot(np.where(performance==np.max(performance))[0][0],np.max(performance),marker='*',markersize=5, color='darkorange')\n",
    "ax.set_xlim(xlim)\n",
    "ax.set_ylim(ylim)\n",
    "# ax.set_title('Classifier performance (all sgs used). \\n Torque as input', fontsize=f_size)\n",
    "ax.set_ylabel('Percentage Correct', fontsize=f_size)\n",
    "# ax.set_yscale('log')\n",
    "ax.spines['right'].set_visible(False)\n",
    "ax.spines['top'].set_visible(False)\n",
    "ax.spines['left'].set_visible(False)\n",
    "ax.axes.get_yaxis().set_visible(False)\n",
    "plt.yticks(fontsize=f_size)\n",
    "plt.xticks(fontsize=f_size)\n",
    "# plt.savefig(\"images/class_torque_3_15.svg\",bbox_inches='tight',dpi=fig.dpi)\n",
    "plt.show()"
   ]
  },
  {
   "cell_type": "markdown",
   "metadata": {},
   "source": [
    "- Using F1-score as the classifier metric."
   ]
  },
  {
   "cell_type": "code",
   "execution_count": 15,
   "metadata": {},
   "outputs": [
    {
     "data": {
      "image/png": "[encoded data removed]",
      "text/plain": [
       "<Figure size 400x400 with 1 Axes>"
      ]
     },
     "metadata": {},
     "output_type": "display_data"
    }
   ],
   "source": [
    "# Simple Plots\n",
    "f_size = 6\n",
    "fig, ax = plt.subplots(1,1,figsize=[2,2],dpi=200)\n",
    "fig.patch.set_facecolor('white')\n",
    "ax.plot(f1_score_data, '--o', color='maroon',markersize=1,linewidth=0.5)\n",
    "ax.plot(np.where(f1_score_data==np.max(f1_score_data))[0][0],np.max(f1_score_data),marker='*',markersize=5, color='darkorange')\n",
    "ax.set_xlim(xlim)\n",
    "ax.set_ylim(ylim)\n",
    "# ax.set_ylabel('F1-Score', fontsize=f_size)\n",
    "# ax.set_yscale('log')\n",
    "ax.spines['right'].set_visible(False)\n",
    "ax.spines['top'].set_visible(False)\n",
    "ax.spines['left'].set_visible(False)\n",
    "ax.axes.get_yaxis().set_visible(False)\n",
    "plt.yticks(fontsize=f_size)\n",
    "plt.xticks(fontsize=f_size)\n",
    "# plt.savefig(\"images/f1_score/class_f1score_3.svg\",bbox_inches='tight',dpi=fig.dpi)\n",
    "plt.show()"
   ]
  },
  {
   "cell_type": "markdown",
   "metadata": {},
   "source": [
    "## 3.1 print the maximum performance & number of features"
   ]
  },
  {
   "cell_type": "code",
   "execution_count": 16,
   "metadata": {},
   "outputs": [
    {
     "data": {
      "text/plain": [
       "92.3076923076923"
      ]
     },
     "execution_count": 16,
     "metadata": {},
     "output_type": "execute_result"
    }
   ],
   "source": [
    "np.max(performance)"
   ]
  },
  {
   "cell_type": "code",
   "execution_count": 17,
   "metadata": {},
   "outputs": [
    {
     "data": {
      "text/plain": [
       "8"
      ]
     },
     "execution_count": 17,
     "metadata": {},
     "output_type": "execute_result"
    }
   ],
   "source": [
    "np.where(performance==np.max(performance))[0][0]"
   ]
  },
  {
   "cell_type": "code",
   "execution_count": 18,
   "metadata": {},
   "outputs": [
    {
     "data": {
      "text/plain": [
       "91.17613652497374"
      ]
     },
     "execution_count": 18,
     "metadata": {},
     "output_type": "execute_result"
    }
   ],
   "source": [
    "np.max(f1_score_data)"
   ]
  },
  {
   "cell_type": "code",
   "execution_count": 19,
   "metadata": {},
   "outputs": [
    {
     "data": {
      "text/plain": [
       "8"
      ]
     },
     "execution_count": 19,
     "metadata": {},
     "output_type": "execute_result"
    }
   ],
   "source": [
    "np.where(f1_score_data==np.max(f1_score_data))[0][0]"
   ]
  },
  {
   "cell_type": "code",
   "execution_count": 20,
   "metadata": {},
   "outputs": [
    {
     "name": "stdout",
     "output_type": "stream",
     "text": [
      "     count   f1_score\n",
      "0        0  42.604665\n",
      "1        1  47.008547\n",
      "2        2  55.259698\n",
      "3        3  64.908425\n",
      "4        4  72.543313\n",
      "5        5  86.499702\n",
      "6        6  84.029304\n",
      "7        7  88.641634\n",
      "8        8  91.176137\n",
      "9        9  91.176137\n",
      "10      10  91.176137\n",
      "11      11  88.641634\n",
      "12      12  91.176137\n",
      "13      13  91.176137\n",
      "14      14  91.176137\n",
      "15      15  91.176137\n",
      "16      16  88.641634\n",
      "17      17  88.641634\n",
      "18      18  88.641634\n",
      "19      19  88.694639\n",
      "20      20  83.806159\n",
      "21      21  86.229662\n",
      "22      22  88.694639\n",
      "23      23  91.176137\n",
      "24      24  91.176137\n",
      "25      25  88.694639\n",
      "26      26  83.799534\n",
      "27      27  86.242760\n",
      "28      28  86.229662\n",
      "29      29  86.171236\n",
      "30      30  83.806159\n",
      "31      31  83.806159\n",
      "32      32  83.806159\n",
      "33      33  81.462901\n",
      "34      34  81.462901\n",
      "35      35  81.462901\n",
      "36      36  81.462901\n",
      "37      37  78.970685\n",
      "38      38  78.970685\n",
      "39      39  78.970685\n",
      "40      40  78.970685\n",
      "41      41  78.970685\n",
      "42      42  81.462901\n",
      "43      43  78.970685\n",
      "44      44  74.413763\n",
      "45      45  67.293447\n",
      "46      46  69.599055\n",
      "47      47  66.880342\n",
      "48      48  66.880342\n",
      "49      49  66.880342\n",
      "50      50  69.140676\n",
      "51      51  69.140676\n",
      "52      52  69.140676\n",
      "53      53  69.140676\n",
      "54      54  69.140676\n",
      "55      55  71.581197\n",
      "56      56  69.271420\n",
      "57      57  71.581197\n",
      "58      58  71.581197\n",
      "59      59  71.581197\n",
      "60      60  71.581197\n",
      "61      61  71.581197\n",
      "62      62  71.581197\n",
      "63      63  73.949343\n",
      "64      64  71.322702\n",
      "65      65  71.322702\n",
      "66      66  71.322702\n",
      "67      67  71.322702\n",
      "68      68  71.322702\n",
      "69      69  71.322702\n",
      "70      70  73.717949\n",
      "71      71  69.017094\n",
      "72      72  71.370330\n",
      "73      73  69.017094\n",
      "74      74  69.017094\n",
      "75      75  71.581197\n",
      "76      76  71.581197\n",
      "77      77  69.271420\n",
      "78      78  69.271420\n",
      "79      79  69.017094\n",
      "80      80  69.271420\n",
      "81      81  69.271420\n",
      "82      82  69.271420\n",
      "83      83  69.271420\n",
      "84      84  64.593496\n",
      "85      85  64.593496\n",
      "86      86  64.593496\n",
      "87      87  64.593496\n",
      "88      88  64.593496\n",
      "89      89  64.593496\n",
      "90      90  64.593496\n",
      "91      91  64.593496\n",
      "92      92  64.593496\n",
      "93      93  64.593496\n",
      "94      94  64.593496\n",
      "95      95  64.593496\n",
      "96      96  66.932939\n",
      "97      97  66.932939\n",
      "98      98  64.593496\n",
      "99      99  64.593496\n",
      "100    100  64.593496\n",
      "101    101  64.593496\n",
      "102    102  66.880342\n",
      "103    103  66.880342\n",
      "104    104  64.593496\n",
      "105    105  66.880342\n",
      "106    106  66.880342\n",
      "107    107  66.880342\n",
      "108    108  66.880342\n",
      "109    109  66.880342\n",
      "110    110  66.880342\n",
      "111    111  66.880342\n",
      "112    112  66.880342\n",
      "113    113  66.880342\n",
      "114    114  66.880342\n",
      "115    115  66.880342\n",
      "116    116  64.406549\n",
      "117    117  64.245406\n",
      "118    118  64.245406\n",
      "119    119  64.245406\n",
      "120    120  64.245406\n",
      "121    121  66.761427\n",
      "122    122  64.627040\n",
      "123    123  64.627040\n",
      "124    124  69.727630\n",
      "125    125  64.865690\n",
      "126    126  62.736901\n",
      "127    127  64.754135\n",
      "128    128  62.917638\n"
     ]
    }
   ],
   "source": [
    "count_list = np.arange(0,len(f1_score_data))\n",
    "f1_score_with_count = pd.DataFrame({'count':count_list, 'f1_score':f1_score_data})\n",
    "print(f1_score_with_count.to_string())"
   ]
  },
  {
   "cell_type": "code",
   "execution_count": null,
   "metadata": {},
   "outputs": [],
   "source": []
  }
 ],
 "metadata": {
  "kernelspec": {
   "display_name": "Python 3",
   "language": "python",
   "name": "python3"
  },
  "language_info": {
   "codemirror_mode": {
    "name": "ipython",
    "version": 3
   },
   "file_extension": ".py",
   "mimetype": "text/x-python",
   "name": "python",
   "nbconvert_exporter": "python",
   "pygments_lexer": "ipython3",
   "version": "3.8.5"
  }
 },
 "nbformat": 4,
 "nbformat_minor": 4
}
